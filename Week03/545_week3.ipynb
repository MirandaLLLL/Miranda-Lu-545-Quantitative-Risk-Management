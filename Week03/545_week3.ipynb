{
 "cells": [
  {
   "cell_type": "code",
   "execution_count": 226,
   "metadata": {},
   "outputs": [],
   "source": [
    "import numpy as np\n",
    "import pandas as pd\n",
    "import matplotlib.pyplot as plt\n",
    "import statsmodels.api as sm\n",
    "import time\n",
    "import timeit\n"
   ]
  },
  {
   "cell_type": "code",
   "execution_count": 386,
   "metadata": {},
   "outputs": [],
   "source": [
    "# Problem 1\n",
    "\n",
    "# Create a routine for calculating an exponentially weighted covariance matrix\n",
    "problem1_df = pd.read_csv(\"DailyReturn.csv\")\n",
    "problem1_df=problem1_df.rename(columns={\"Unnamed: 0\": \"Date\"})\n",
    "\n",
    "def Cal_weight(lamda,n):\n",
    "    w=np.zeros(n)\n",
    "    total_w=0\n",
    "    for i in range(n):\n",
    "        tmp=(1-lamda)*pow(lamda,i-1)\n",
    "        w[i]=tmp\n",
    "        total_w+=tmp\n",
    "\n",
    "    w=w/total_w\n",
    "    return w\n",
    "    \n",
    "def Cal_cov(w,x,y):\n",
    "    n=len(x)\n",
    "    cov=0\n",
    "    x_mean=np.mean(x)\n",
    "    y_mean=np.mean(y)\n",
    "    \n",
    "    for i in range(n):\n",
    "        cov+=(x[i]-x_mean)*(y[i]-y_mean)*w[n-1-i]\n",
    "    \n",
    "    return cov\n",
    "\n",
    "problem1_df2=problem1_df.drop(columns='Date')\n",
    "\n",
    "def Cal_cov_matrix(lamda,df):\n",
    "        \n",
    "    n_assets=df.shape[1]\n",
    "    n_date=df.shape[0]\n",
    "\n",
    "    cov_mat=np.zeros((n_assets,n_assets))\n",
    "\n",
    "    weight=Cal_weight(lamda,n_date)\n",
    "    cols=df.columns\n",
    "\n",
    "    for i in range(n_assets):\n",
    "        x=cols[i]\n",
    "        cov_mat[i][i]=Cal_cov(weight,df[x],df[x])\n",
    "        for j in range(i+1,n_assets):\n",
    "            y=cols[j]\n",
    "            cov_mat[i][j]=Cal_cov(weight,df[x],df[y])\n",
    "            cov_mat[j][i]=cov_mat[i][j]\n",
    "    return np.array(cov_mat)\n",
    "\n"
   ]
  },
  {
   "cell_type": "code",
   "execution_count": 207,
   "metadata": {},
   "outputs": [],
   "source": [
    "def expWeight(n, nambda):\n",
    "    weights = np.zeros(n)\n",
    "    for i in range(n):\n",
    "        weights[i] = (1 - nambda) * pow(nambda, n -i + 1) \n",
    "    #in the input data, the latest value is at the bottom\n",
    "    #so generating weights accordingly (largest weight should be at the back)\n",
    "    weights = weights / sum(weights)\n",
    "    return weights\n",
    "\n",
    "#calculate the weighted covariance between two variables\n",
    "def cov_2arrays(x, y, w):\n",
    "    cov = 0\n",
    "    mean_x = np.mean(x)\n",
    "    mean_y = np.mean(y)\n",
    "    n = len(x)\n",
    "    for i in range(n):\n",
    "        cov += w[i] * (x[i] - mean_x) * (y[i] - mean_y)\n",
    "    return cov\n",
    "\n",
    "#getting covariance matrix (df is the dataframe holding the data)\n",
    "def expWeightedCov(df, nambda):\n",
    "    n, m = df.shape\n",
    "    weights = expWeight(n, nambda)\n",
    "    Cov = pd.DataFrame(index = df.columns[1:], columns = df.columns[1:]) #the first column is the date\n",
    "    for i in range(m - 1):\n",
    "        for j in range(m - 1):\n",
    "            Cov.iloc[i][j] = cov_2arrays(df.iloc[:, i + 1], df.iloc[:, j + 1], weights)\n",
    "    return Cov"
   ]
  },
  {
   "cell_type": "code",
   "execution_count": 186,
   "metadata": {},
   "outputs": [
    {
     "data": {
      "text/plain": [
       "8.411069089105855e-05"
      ]
     },
     "execution_count": 186,
     "metadata": {},
     "output_type": "execute_result"
    }
   ],
   "source": [
    "n_assets=problem1_df2.shape[1]\n",
    "\n",
    "col_name1=problem1_df2.columns[0]\n",
    "col_name2=problem1_df2.columns[0]\n",
    "weight=Cal_weight(0.97,problem1_df2.shape[0])\n",
    "Cal_cov(weight,problem1_df2[col_name1],problem1_df2[col_name2])"
   ]
  },
  {
   "cell_type": "code",
   "execution_count": 387,
   "metadata": {},
   "outputs": [
    {
     "data": {
      "text/plain": [
       "array([[8.41106909e-05, 1.06945662e-04, 1.21760871e-04, ...,\n",
       "        1.25484463e-04, 8.11331555e-05, 8.61130395e-05],\n",
       "       [1.06945662e-04, 2.68752303e-04, 1.97531665e-04, ...,\n",
       "        1.15658764e-04, 3.74977522e-05, 8.22220854e-05],\n",
       "       [1.21760871e-04, 1.97531665e-04, 2.91157502e-04, ...,\n",
       "        8.30278956e-05, 3.31844912e-05, 7.34713753e-05],\n",
       "       ...,\n",
       "       [1.25484463e-04, 1.15658764e-04, 8.30278956e-05, ...,\n",
       "        7.47889224e-04, 2.68371109e-04, 2.00639601e-04],\n",
       "       [8.11331555e-05, 3.74977522e-05, 3.31844912e-05, ...,\n",
       "        2.68371109e-04, 3.08241679e-04, 8.21009546e-05],\n",
       "       [8.61130395e-05, 8.22220854e-05, 7.34713753e-05, ...,\n",
       "        2.00639601e-04, 8.21009546e-05, 2.62692778e-04]])"
      ]
     },
     "execution_count": 387,
     "metadata": {},
     "output_type": "execute_result"
    }
   ],
   "source": [
    "Cal_cov_matrix(0.97,problem1_df2)"
   ]
  },
  {
   "cell_type": "code",
   "execution_count": null,
   "metadata": {},
   "outputs": [],
   "source": []
  },
  {
   "cell_type": "code",
   "execution_count": 383,
   "metadata": {},
   "outputs": [
    {
     "data": {
      "text/plain": [
       "0.00019753166457453882"
      ]
     },
     "execution_count": 383,
     "metadata": {},
     "output_type": "execute_result"
    }
   ],
   "source": [
    "w=calculate_weight(0.97, df)\n",
    "x=df[problem1_df2.columns[1]]\n",
    "y=df[problem1_df2.columns[2]]\n",
    "Cal_cov(w,x,y)"
   ]
  },
  {
   "cell_type": "code",
   "execution_count": 374,
   "metadata": {},
   "outputs": [
    {
     "data": {
      "text/plain": [
       "'SPY'"
      ]
     },
     "execution_count": 374,
     "metadata": {},
     "output_type": "execute_result"
    }
   ],
   "source": [
    "problem1_df2.columns[0]"
   ]
  },
  {
   "cell_type": "code",
   "execution_count": 180,
   "metadata": {},
   "outputs": [],
   "source": [
    "# calculate the covariance\n",
    "    \n",
    "def weighted_pair(x, y, weight):\n",
    "    n = len(x)\n",
    "    mean_x = np.mean(x)\n",
    "    mean_y = np.mean(y)\n",
    "    cov = 0\n",
    "    for i in range(n):\n",
    "        cov += weight[n - 1 - i]*(x[i] - mean_x) * (y[i] - mean_y)\n",
    "    return cov\n",
    "\n",
    "def calculate_weight(lamb, df):\n",
    "    X = df.index.values\n",
    "    weight = [(1-lamb)*lamb**(i-1) for i in X]\n",
    "    weight_adjust = [weight[i]/sum(weight) for i in X]\n",
    "    return weight_adjust\n",
    "\n",
    "def weighted_cov(lamb, df):\n",
    "\n",
    "    n = df.shape[1]\n",
    "    T = len(df)\n",
    "    weight = calculate_weight(lamb, df)\n",
    "    cov_mat = pd.DataFrame(np.zeros((n, n)))\n",
    "    for i in range(n):\n",
    "        x = df.iloc[:, i]\n",
    "        cov_mat.iloc[i, i] = weighted_pair(x, x, weight)\n",
    "        for j in range(i+1):\n",
    "            y = df.iloc[:, j]\n",
    "            cov_mat.iloc[i, j] = weighted_pair(x, y, weight)\n",
    "            cov_mat.iloc[j, i] = cov_mat.iloc[i, j]\n",
    "\n",
    "    return np.array(cov_mat)\n",
    "\n",
    "cov_mat = weighted_cov(0.97, problem1_df2)"
   ]
  },
  {
   "cell_type": "code",
   "execution_count": 388,
   "metadata": {},
   "outputs": [],
   "source": [
    "# PCA\n",
    "def PCA(cov_mat):\n",
    "    \n",
    "    vals,vecs =np.linalg.eigh(cov_mat)\n",
    "    tv=np.sum(vals)\n",
    "    \n",
    "    explain_total=0\n",
    "    explain_list=[]\n",
    "    \n",
    "    for i in vals:\n",
    "        if i > 0:\n",
    "            explain_total+=i\n",
    "            explain_list.append(i)\n",
    "            \n",
    "    \n",
    "   \n",
    "    exp_list=sorted(explain_list,reverse=True)\n",
    "    exp_cum_list=np.cumsum(exp_list)\n",
    "    exp_cum_list=np.divide(exp_cum_list,explain_total)\n",
    "    \n",
    "    return exp_cum_list"
   ]
  },
  {
   "cell_type": "code",
   "execution_count": 284,
   "metadata": {},
   "outputs": [
    {
     "data": {
      "text/plain": [
       "[0.2996083233628427,\n",
       " 0.14255828877410984,\n",
       " 0.06470821026557838,\n",
       " 0.048112680758734906,\n",
       " 0.04403962613208367,\n",
       " 0.03353912214335836,\n",
       " 0.03163711889712542,\n",
       " 0.026511702903026672,\n",
       " 0.025467226265421368,\n",
       " 0.01904706598411329,\n",
       " 0.017815725029058305,\n",
       " 0.01746473531189978,\n",
       " 0.015502478462392909,\n",
       " 0.014730357586606038,\n",
       " 0.013899619551523164,\n",
       " 0.01236600652550515,\n",
       " 0.012007370608375102,\n",
       " 0.011601405469598015,\n",
       " 0.010988717694086542,\n",
       " 0.010072581157062032,\n",
       " 0.009225349581527391,\n",
       " 0.008263278923082993,\n",
       " 0.008055082392371108,\n",
       " 0.007017870304052114,\n",
       " 0.006768564483916587,\n",
       " 0.006422509014681425,\n",
       " 0.006018250254589392,\n",
       " 0.005894928422045042,\n",
       " 0.005569001621499358,\n",
       " 0.00547538222399199,\n",
       " 0.005173245151404841,\n",
       " 0.00435742769182999,\n",
       " 0.0042718145422844245,\n",
       " 0.004193067154604927,\n",
       " 0.003749482035237707,\n",
       " 0.003654846178279814,\n",
       " 0.003462222959707006,\n",
       " 0.003215170820616278,\n",
       " 0.0030950348766786437,\n",
       " 0.0027580421060627238,\n",
       " 0.0025000143719568807,\n",
       " 0.0024627860520346797,\n",
       " 0.002138064981379226,\n",
       " 0.0018526858655737118,\n",
       " 0.0017759461255930512,\n",
       " 0.0015133431373793688,\n",
       " 0.0014640619954680906,\n",
       " 0.0012001888704146547,\n",
       " 0.0011701932567277718,\n",
       " 0.0008989080058919071,\n",
       " 0.000870124735124226,\n",
       " 0.0007272989424358989,\n",
       " 0.0006831642663399816,\n",
       " 0.0005787465652309044,\n",
       " 0.0005277223898167545,\n",
       " 0.00047169184060635465,\n",
       " 0.00035569065841974454,\n",
       " 0.0002880102021380715,\n",
       " 0.00020242411650319146,\n",
       " 1.973642004209966e-17,\n",
       " 8.704044606418854e-18,\n",
       " 7.820090255683539e-18,\n",
       " 6.386961249746153e-18,\n",
       " 6.14650565157721e-18,\n",
       " 5.083310530842713e-18,\n",
       " 4.921910971324994e-18,\n",
       " 4.219336246075297e-18,\n",
       " 3.267648314076567e-18,\n",
       " 3.1660117883174128e-18,\n",
       " 2.8179906440935193e-18,\n",
       " 2.4087310325574474e-18,\n",
       " 1.9999042292642953e-18,\n",
       " 1.9402807281616594e-18,\n",
       " 1.5335331936330887e-18,\n",
       " 1.0850349709938218e-18,\n",
       " 7.880780661333949e-19,\n",
       " 1.3710523492854664e-19,\n",
       " 7.51078048879867e-20]"
      ]
     },
     "execution_count": 284,
     "metadata": {},
     "output_type": "execute_result"
    }
   ],
   "source": [
    "PCA(cov_mat)"
   ]
  },
  {
   "cell_type": "code",
   "execution_count": 218,
   "metadata": {},
   "outputs": [],
   "source": [
    "eigValue = np.linalg.eigh(np.array(cov_mat,dtype=float))[0]\n",
    "\n",
    "#keep only positive real value\n",
    "x = eigValue.shape[0]\n",
    "for i in range (x):\n",
    "    if (eigValue[i] < 1e-8) or (np.imag(eigValue[i]) != 0) :\n",
    "        eigValue[i] = 0\n",
    "eigValue = np.real(eigValue)\n",
    "tot = sum(eigValue)\n",
    "var_exp = eigValue/tot\n",
    "var_exp.sort()\n",
    "var_exp = var_exp[::-1]\n",
    "cum_var_exp = np.cumsum(var_exp)"
   ]
  },
  {
   "cell_type": "code",
   "execution_count": 219,
   "metadata": {},
   "outputs": [
    {
     "data": {
      "text/plain": [
       "array([0.63393612, 0.73149279, 0.77851225, 0.81321381, 0.83561193,\n",
       "       0.85597782, 0.87230673, 0.88653562, 0.8994675 , 0.91030421,\n",
       "       0.91967258, 0.92811145, 0.93652613, 0.94438479, 0.94947762,\n",
       "       0.95437649, 0.95895074, 0.96286608, 0.96657813, 0.96977711,\n",
       "       0.97289789, 0.97523307, 0.97748492, 0.97962154, 0.98158331,\n",
       "       0.98333363, 0.98506437, 0.98645185, 0.98783172, 0.98910751,\n",
       "       0.9902817 , 0.99138336, 0.9924521 , 0.99350203, 0.99439944,\n",
       "       0.9952737 , 0.99602561, 0.99655787, 0.99708646, 0.99759302,\n",
       "       0.99805203, 0.99842028, 0.9987674 , 0.9990874 , 0.99935323,\n",
       "       0.99961124, 0.99979792, 0.99988185, 0.99993336, 0.99998284,\n",
       "       1.        , 1.        , 1.        , 1.        , 1.        ,\n",
       "       1.        , 1.        , 1.        , 1.        , 1.        ,\n",
       "       1.        , 1.        , 1.        , 1.        , 1.        ,\n",
       "       1.        , 1.        , 1.        , 1.        , 1.        ,\n",
       "       1.        , 1.        , 1.        , 1.        , 1.        ,\n",
       "       1.        , 1.        , 1.        , 1.        , 1.        ,\n",
       "       1.        , 1.        , 1.        , 1.        , 1.        ,\n",
       "       1.        , 1.        , 1.        , 1.        , 1.        ,\n",
       "       1.        , 1.        , 1.        , 1.        , 1.        ,\n",
       "       1.        , 1.        , 1.        , 1.        , 1.        ,\n",
       "       1.        ])"
      ]
     },
     "execution_count": 219,
     "metadata": {},
     "output_type": "execute_result"
    }
   ],
   "source": [
    "cum_var_exp"
   ]
  },
  {
   "cell_type": "code",
   "execution_count": 294,
   "metadata": {},
   "outputs": [
    {
     "data": {
      "text/plain": [
       "array([1.3183584 , 1.52124107, 1.61902458, 1.6911913 , 1.73777133,\n",
       "       1.78012502, 1.81408327, 1.84367422, 1.87056787, 1.8931043 ,\n",
       "       1.91258714, 1.93013694, 1.94763644, 1.96397961, 1.97457087,\n",
       "       1.98475875, 1.99427154, 2.00241404, 2.01013376, 2.01678648,\n",
       "       2.02327659, 2.02813291, 2.03281595, 2.03725935, 2.04133913,\n",
       "       2.04497915, 2.04857848, 2.05146394, 2.05433357, 2.05698674,\n",
       "       2.05942863, 2.06171969, 2.06394228, 2.06612575, 2.06799205,\n",
       "       2.06981019, 2.07137389, 2.0724808 , 2.07358008, 2.07463354,\n",
       "       2.07558813, 2.07635395, 2.07707584, 2.07774131, 2.07829414,\n",
       "       2.07883071, 2.07921893, 2.07939347, 2.0795006 , 2.0796035 ,\n",
       "       2.07963919])"
      ]
     },
     "execution_count": 294,
     "metadata": {},
     "output_type": "execute_result"
    }
   ],
   "source": [
    "PCA2(cov_mat)"
   ]
  },
  {
   "cell_type": "code",
   "execution_count": 293,
   "metadata": {},
   "outputs": [
    {
     "data": {
      "text/plain": [
       "array([0.63393612, 0.73149279, 0.77851225, 0.81321381, 0.83561193,\n",
       "       0.85597782, 0.87230673, 0.88653562, 0.8994675 , 0.91030421,\n",
       "       0.91967258, 0.92811145, 0.93652613, 0.94438479, 0.94947762,\n",
       "       0.95437649, 0.95895074, 0.96286608, 0.96657813, 0.96977711,\n",
       "       0.97289789, 0.97523307, 0.97748492, 0.97962154, 0.98158331,\n",
       "       0.98333363, 0.98506437, 0.98645185, 0.98783172, 0.98910751,\n",
       "       0.9902817 , 0.99138336, 0.9924521 , 0.99350203, 0.99439944,\n",
       "       0.9952737 , 0.99602561, 0.99655787, 0.99708646, 0.99759302,\n",
       "       0.99805203, 0.99842028, 0.9987674 , 0.9990874 , 0.99935323,\n",
       "       0.99961124, 0.99979792, 0.99988185, 0.99993336, 0.99998284,\n",
       "       1.        ])"
      ]
     },
     "execution_count": 293,
     "metadata": {},
     "output_type": "execute_result"
    }
   ],
   "source": [
    "PCA(cov_mat)"
   ]
  },
  {
   "cell_type": "code",
   "execution_count": 290,
   "metadata": {},
   "outputs": [],
   "source": [
    "def PCA2(cov_matrix):\n",
    "    eigenvalue, eigenvector = np.linalg.eigh(cov_matrix)\n",
    "    eigenvalue = sorted(eigenvalue, reverse = True)\n",
    "    total_eigen = np.sum(eigenvalue)\n",
    "    explain = 0\n",
    "    pctExplained_list = []\n",
    "    \n",
    "    for i in range(len(eigenvalue)):\n",
    "        if eigenvalue[i] < 0:\n",
    "            break\n",
    "        explain += eigenvalue[i]\n",
    "        pctExplained_list.append(explain/total_eigen)\n",
    "    return np.array(pctExplained_list)\n",
    "\n",
    "\n",
    "# lamb = [0.1, 0.3, 0.5, 0.75, 0.90, 0.97, 0.99]\n",
    "# fig, ax = plt.subplots(figsize=(8,6))\n",
    "\n",
    "# for la in lamb:\n",
    "#     cov_mat = weighted_cov(la, df)\n",
    "#     PCA_list = PCA2(cov_mat)\n",
    "#     ax.plot(PCA_list, label = f\"λ = {la}\")\n",
    "# ax.legend(loc='best')\n",
    "# ax.set_title(\"pct Explainded for different λ\", fontsize=15)"
   ]
  },
  {
   "cell_type": "code",
   "execution_count": 282,
   "metadata": {},
   "outputs": [
    {
     "data": {
      "text/plain": [
       "array([0.29960832, 0.44216661, 0.50687482, 0.5549875 , 0.59902713,\n",
       "       0.63256625, 0.66420337, 0.69071507, 0.7161823 , 0.73522937,\n",
       "       0.75304509, 0.77050983, 0.7860123 , 0.80074266, 0.81464228,\n",
       "       0.82700829, 0.83901566, 0.85061706, 0.86160578, 0.87167836,\n",
       "       0.88090371, 0.88916699, 0.89722207, 0.90423994, 0.91100851,\n",
       "       0.91743102, 0.92344927, 0.9293442 , 0.9349132 , 0.94038858,\n",
       "       0.94556183, 0.94991925, 0.95419107, 0.95838413, 0.96213362,\n",
       "       0.96578846, 0.96925069, 0.97246586, 0.97556089, 0.97831893,\n",
       "       0.98081895, 0.98328173, 0.9854198 , 0.98727248, 0.98904843,\n",
       "       0.99056177, 0.99202584, 0.99322603, 0.99439622, 0.99529513,\n",
       "       0.99616525, 0.99689255, 0.99757571, 0.99815446, 0.99868218,\n",
       "       0.99915388, 0.99950957, 0.99979758, 1.        , 1.        ,\n",
       "       1.        , 1.        , 1.        , 1.        , 1.        ,\n",
       "       1.        , 1.        , 1.        , 1.        , 1.        ,\n",
       "       1.        , 1.        , 1.        , 1.        , 1.        ,\n",
       "       1.        , 1.        , 1.        ])"
      ]
     },
     "execution_count": 282,
     "metadata": {},
     "output_type": "execute_result"
    }
   ],
   "source": [
    "PCA_list"
   ]
  },
  {
   "cell_type": "code",
   "execution_count": 389,
   "metadata": {},
   "outputs": [
    {
     "data": {
      "text/plain": [
       "Text(0.5, 1.0, 'pct Explainded for different λ')"
      ]
     },
     "execution_count": 389,
     "metadata": {},
     "output_type": "execute_result"
    },
    {
     "data": {
      "image/png": "[encoded data removed]",
      "text/plain": [
       "<Figure size 800x600 with 1 Axes>"
      ]
     },
     "metadata": {},
     "output_type": "display_data"
    }
   ],
   "source": [
    "lamb = [0.1,0.25,0.5,0.75,0.9,0.97,0.99]\n",
    "n=problem1_df2.shape[0]\n",
    "fig, ax = plt.subplots(figsize=(8,6))\n",
    "\n",
    "for la in lamb:\n",
    "    cov_mat = Cal_cov_matrix(la,problem1_df2)\n",
    "    PCA_list = PCA(cov_mat)\n",
    "    ax.plot(PCA_list, label = f\"λ = {la}\")\n",
    "    \n",
    "    \n",
    "ax.legend(loc='best')\n",
    "ax.set_title(\"pct Explainded for different λ\", fontsize=15)"
   ]
  },
  {
   "cell_type": "code",
   "execution_count": 278,
   "metadata": {},
   "outputs": [],
   "source": [
    "# Problem 2\n",
    "\n",
    "# implement chol_psd \n",
    "def chol_psd(root,a):\n",
    "    n=len(a)\n",
    "    \n",
    "    root=np.array([[0.0]*n]*n)\n",
    "    \n",
    "    for j in range(n):\n",
    "        if j==0:\n",
    "            s=0\n",
    "        else:\n",
    "            s=np.matmul(root[j,:j],root[j,:j].T)\n",
    "            \n",
    "        tmp=a[j,j]-s\n",
    "        # if -1e-8 <=tmp<=0:\n",
    "        #     tmp=0.0\n",
    "            \n",
    "        root[j,j]=np.sqrt(tmp)\n",
    "        if root[j,j]==0:\n",
    "            continue\n",
    "        \n",
    "        ir=1.0/root[j,j]\n",
    "        \n",
    "        for i in range((j+1),n):\n",
    "            s=np.matmul(root[i,:j],root[j,:j].T) \n",
    "            root[i,j]=(a[i,j]-s)*ir\n",
    "            \n",
    "            \n",
    "    return root\n",
    "\n",
    "#implement near_psd:\n",
    "\n",
    "def near_psd(a,epsilon=0.0):\n",
    "    \n",
    "    \n",
    "    n=len(a)\n",
    "    \n",
    "    invSD=np.array([])\n",
    "    out=a.copy()\n",
    "    \n",
    "    if np.count_nonzero(np.diag(a)==1) !=n:\n",
    "        invSD=np.diagflat(1/np.sqrt(np.diag(out)))\n",
    "        tmp=np.matmul(out,invSD)\n",
    "        out=np.matmul(invSD,tmp)\n",
    "        \n",
    "    vals,vecs=np.linalg.eigh(a)\n",
    "    vals=np.maximum(vals,epsilon)\n",
    "    temp=np.matmul(vecs,vecs)\n",
    "    T=1/np.matmul(vecs*vecs,vals)\n",
    "    T=np.diagflat(np.sqrt(T))\n",
    "    l=np.diagflat(np.sqrt(vals))\n",
    "    tmp2=np.matmul(T,vecs)\n",
    "    B=np.matmul(tmp2,l)\n",
    "    out=np.matmul(B,B.T)\n",
    "    \n",
    "    if len(invSD) != 0:\n",
    "        invSD = np.diagflat(1/np.diag(invSD))\n",
    "        tmp3=np.matmul(out,invSD)\n",
    "        out=np.matmul(invSD,tmp3)\n",
    "        \n",
    "    return out\n"
   ]
  },
  {
   "cell_type": "code",
   "execution_count": 271,
   "metadata": {},
   "outputs": [],
   "source": [
    "# Implement Higham 2002\n",
    "\n",
    "def Frobenius_Norm(A):\n",
    "    s=0\n",
    "    for i in range(len(A)):\n",
    "        for j in range(len(A)):\n",
    "            s+=A[i,j]**2\n",
    "            \n",
    "    return s\n",
    "\n",
    "def ProjectionU(A):\n",
    "    p=A.copy()\n",
    "    \n",
    "    for i in range(len(A)):\n",
    "       p[i,i]=1\n",
    "    return p\n",
    "\n",
    "def ProjectionS(A,W):\n",
    "    w_sqrt=np.sqrt(W)\n",
    "    tmp=np.matmul(w_sqrt,A)\n",
    "    \n",
    "    tmp2=np.matmul(tmp,w_sqrt)\n",
    "    \n",
    "    vals , vecs = np.linalg.eigh(A)\n",
    "    vals = np.maximum(vals,0)\n",
    "    val_diag= np.diagflat(vals)\n",
    "    \n",
    "    tmp=np.matmul(vecs,val_diag)\n",
    "    p=np.matmul(tmp,vecs.T)\n",
    "    \n",
    "    return p\n",
    "\n",
    "\n",
    "def Higham_2002(A,iteration=1000):\n",
    "    Lag_deltaS = 0\n",
    "   \n",
    "    Lag_Y = A\n",
    "    \n",
    "    Lag_Gamma = np.inf\n",
    "    \n",
    "    weights=np.ones(len(A))\n",
    "    \n",
    "    tol = 1e-10\n",
    "    \n",
    "    for i in range(iteration):\n",
    "        R = Lag_Y - Lag_deltaS\n",
    "        X=ProjectionS(R,weights)\n",
    "        deltaS=X-R\n",
    "        Y=ProjectionU(X)\n",
    "        Gamma=Frobenius_Norm(Y-A)\n",
    "        \n",
    "        if abs(Gamma - Lag_Gamma)<tol:\n",
    "            break\n",
    "        \n",
    "        Lag_deltaS=deltaS\n",
    "        Lag_Y=Y\n",
    "        Lag_Gamma=Gamma\n",
    "        \n",
    "    return Y\n",
    "    \n",
    "\n"
   ]
  },
  {
   "cell_type": "code",
   "execution_count": 255,
   "metadata": {},
   "outputs": [],
   "source": [
    "# generate NON PSD\n",
    "    \n",
    "def gen_non_psd(n):\n",
    "    sigma = np.full((n,n),0.9)\n",
    "    for i in range(n):\n",
    "        sigma[i,i]=1\n",
    "    \n",
    "    sigma[0,1] = 0.7357\n",
    "    sigma[1,0] = 0.7357 \n",
    "    return sigma"
   ]
  },
  {
   "cell_type": "code",
   "execution_count": 272,
   "metadata": {},
   "outputs": [
    {
     "data": {
      "text/plain": [
       "array([[1.        , 0.75489607, 0.89529666, 0.89529666, 0.89529666,\n",
       "        0.89529666, 0.89529666, 0.89529666, 0.89529666, 0.89529666],\n",
       "       [0.75489607, 1.        , 0.89529666, 0.89529666, 0.89529666,\n",
       "        0.89529666, 0.89529666, 0.89529666, 0.89529666, 0.89529666],\n",
       "       [0.89529666, 0.89529666, 1.        , 0.90115239, 0.90115239,\n",
       "        0.90115239, 0.90115239, 0.90115239, 0.90115239, 0.90115239],\n",
       "       [0.89529666, 0.89529666, 0.90115239, 1.        , 0.90115239,\n",
       "        0.90115239, 0.90115239, 0.90115239, 0.90115239, 0.90115239],\n",
       "       [0.89529666, 0.89529666, 0.90115239, 0.90115239, 1.        ,\n",
       "        0.90115239, 0.90115239, 0.90115239, 0.90115239, 0.90115239],\n",
       "       [0.89529666, 0.89529666, 0.90115239, 0.90115239, 0.90115239,\n",
       "        1.        , 0.90115239, 0.90115239, 0.90115239, 0.90115239],\n",
       "       [0.89529666, 0.89529666, 0.90115239, 0.90115239, 0.90115239,\n",
       "        0.90115239, 1.        , 0.90115239, 0.90115239, 0.90115239],\n",
       "       [0.89529666, 0.89529666, 0.90115239, 0.90115239, 0.90115239,\n",
       "        0.90115239, 0.90115239, 1.        , 0.90115239, 0.90115239],\n",
       "       [0.89529666, 0.89529666, 0.90115239, 0.90115239, 0.90115239,\n",
       "        0.90115239, 0.90115239, 0.90115239, 1.        , 0.90115239],\n",
       "       [0.89529666, 0.89529666, 0.90115239, 0.90115239, 0.90115239,\n",
       "        0.90115239, 0.90115239, 0.90115239, 0.90115239, 1.        ]])"
      ]
     },
     "execution_count": 272,
     "metadata": {},
     "output_type": "execute_result"
    }
   ],
   "source": [
    "A=gen_non_psd(10)\n",
    "Higham_2002(A)"
   ]
  },
  {
   "cell_type": "code",
   "execution_count": 265,
   "metadata": {},
   "outputs": [],
   "source": [
    "def getPS(R, weights):\n",
    "    w_half = np.sqrt(weights)\n",
    "    R_wtd = w_half * R *w_half\n",
    "    vals, vecs = np.linalg.eigh(R_wtd)\n",
    "    #let the eigenvalue system with negative values set to 0\n",
    "    R_wtd = np.matmul((vecs * np.maximum(vals, 0)), (np.transpose(vecs)))\n",
    "    X = (1 / w_half) * R_wtd *(1 / w_half)\n",
    "    return X\n",
    "\n",
    "def getPU(X):\n",
    "    #assuming w is diagonal\n",
    "    Y = X\n",
    "    np.fill_diagonal(Y, 1)\n",
    "    return Y\n",
    "\n",
    "def f_norm (M1, M2, weights):\n",
    "    w_half = np.sqrt(weights)\n",
    "    A_w = w_half * (M1 - M2) *w_half\n",
    "    f_norm = np.sum(A_w * A_w)\n",
    "    return f_norm\n",
    "    \n",
    "\n",
    "def wgtnorm(A, Y, Y_old, weights):\n",
    "\n",
    "    norm_Y = f_norm(Y,  A, weights)\n",
    "    norm_Y_old = f_norm(Y_old,  A, weights)\n",
    "    norml = norm_Y - norm_Y_old\n",
    "    return norml\n",
    "\n",
    "def higham_psd(A, max_iterations=1000, tolerance = 1e-9):\n",
    "    \n",
    "    n = A.shape[0]\n",
    "    delta_s = np.zeros(np.shape(A))\n",
    "\n",
    "    norml = np.inf\n",
    "\n",
    "    weights = np.ones(np.shape(A)[0])\n",
    "    Y = np.copy(A)\n",
    "    \n",
    "\n",
    "    iteration = 0\n",
    "    \n",
    "    while (norml > tolerance) or (sum(np.linalg.eigh(Y)[0]>-1e-8) < n):\n",
    "    # if it converge, it is guarenteed to be psd\n",
    "        if iteration > max_iterations:\n",
    "            print(\"No solution found in \" + str(max_iterations) + \" iterations\")\n",
    "            return A\n",
    "\n",
    "        R = Y - delta_s\n",
    "        \n",
    "        #PS update\n",
    "        X = getPS(R, weights)\n",
    "\n",
    "        delta_s = X - R       \n",
    "        \n",
    "        Y_old = np.copy(Y)\n",
    "        #PU update\n",
    "        Y = getPU(X)\n",
    "     \n",
    "        #get norm\n",
    "        norml = wgtnorm(A, Y, Y_old, weights)\n",
    "        \n",
    "        iteration += 1\n",
    "    return Y"
   ]
  },
  {
   "cell_type": "code",
   "execution_count": 266,
   "metadata": {},
   "outputs": [
    {
     "data": {
      "text/plain": [
       "array([[1.        , 0.75489607, 0.89529666, 0.89529666, 0.89529666,\n",
       "        0.89529666, 0.89529666, 0.89529666, 0.89529666, 0.89529666],\n",
       "       [0.75489607, 1.        , 0.89529666, 0.89529666, 0.89529666,\n",
       "        0.89529666, 0.89529666, 0.89529666, 0.89529666, 0.89529666],\n",
       "       [0.89529666, 0.89529666, 1.        , 0.90115239, 0.90115239,\n",
       "        0.90115239, 0.90115239, 0.90115239, 0.90115239, 0.90115239],\n",
       "       [0.89529666, 0.89529666, 0.90115239, 1.        , 0.90115239,\n",
       "        0.90115239, 0.90115239, 0.90115239, 0.90115239, 0.90115239],\n",
       "       [0.89529666, 0.89529666, 0.90115239, 0.90115239, 1.        ,\n",
       "        0.90115239, 0.90115239, 0.90115239, 0.90115239, 0.90115239],\n",
       "       [0.89529666, 0.89529666, 0.90115239, 0.90115239, 0.90115239,\n",
       "        1.        , 0.90115239, 0.90115239, 0.90115239, 0.90115239],\n",
       "       [0.89529666, 0.89529666, 0.90115239, 0.90115239, 0.90115239,\n",
       "        0.90115239, 1.        , 0.90115239, 0.90115239, 0.90115239],\n",
       "       [0.89529666, 0.89529666, 0.90115239, 0.90115239, 0.90115239,\n",
       "        0.90115239, 0.90115239, 1.        , 0.90115239, 0.90115239],\n",
       "       [0.89529666, 0.89529666, 0.90115239, 0.90115239, 0.90115239,\n",
       "        0.90115239, 0.90115239, 0.90115239, 1.        , 0.90115239],\n",
       "       [0.89529666, 0.89529666, 0.90115239, 0.90115239, 0.90115239,\n",
       "        0.90115239, 0.90115239, 0.90115239, 0.90115239, 1.        ]])"
      ]
     },
     "execution_count": 266,
     "metadata": {},
     "output_type": "execute_result"
    }
   ],
   "source": [
    "higham_psd(A)"
   ]
  },
  {
   "cell_type": "code",
   "execution_count": 260,
   "metadata": {},
   "outputs": [
    {
     "data": {
      "text/plain": [
       "array([[1.        , 0.75489607, 0.89529666, 0.89529666, 0.89529666,\n",
       "        0.89529666, 0.89529666, 0.89529666, 0.89529666, 0.89529666],\n",
       "       [0.75489607, 1.        , 0.89529666, 0.89529666, 0.89529666,\n",
       "        0.89529666, 0.89529666, 0.89529666, 0.89529666, 0.89529666],\n",
       "       [0.89529666, 0.89529666, 1.        , 0.90115239, 0.90115239,\n",
       "        0.90115239, 0.90115239, 0.90115239, 0.90115239, 0.90115239],\n",
       "       [0.89529666, 0.89529666, 0.90115239, 1.        , 0.90115239,\n",
       "        0.90115239, 0.90115239, 0.90115239, 0.90115239, 0.90115239],\n",
       "       [0.89529666, 0.89529666, 0.90115239, 0.90115239, 1.        ,\n",
       "        0.90115239, 0.90115239, 0.90115239, 0.90115239, 0.90115239],\n",
       "       [0.89529666, 0.89529666, 0.90115239, 0.90115239, 0.90115239,\n",
       "        1.        , 0.90115239, 0.90115239, 0.90115239, 0.90115239],\n",
       "       [0.89529666, 0.89529666, 0.90115239, 0.90115239, 0.90115239,\n",
       "        0.90115239, 1.        , 0.90115239, 0.90115239, 0.90115239],\n",
       "       [0.89529666, 0.89529666, 0.90115239, 0.90115239, 0.90115239,\n",
       "        0.90115239, 0.90115239, 1.        , 0.90115239, 0.90115239],\n",
       "       [0.89529666, 0.89529666, 0.90115239, 0.90115239, 0.90115239,\n",
       "        0.90115239, 0.90115239, 0.90115239, 1.        , 0.90115239],\n",
       "       [0.89529666, 0.89529666, 0.90115239, 0.90115239, 0.90115239,\n",
       "        0.90115239, 0.90115239, 0.90115239, 0.90115239, 1.        ]])"
      ]
     },
     "execution_count": 260,
     "metadata": {},
     "output_type": "execute_result"
    }
   ],
   "source": [
    "Higham_near_psd(A)"
   ]
  },
  {
   "cell_type": "code",
   "execution_count": 259,
   "metadata": {},
   "outputs": [],
   "source": []
  },
  {
   "cell_type": "code",
   "execution_count": null,
   "metadata": {},
   "outputs": [],
   "source": [
    "# Judge if the matrix is PSD\n",
    "def if_PSD():\n",
    "    "
   ]
  },
  {
   "cell_type": "code",
   "execution_count": 299,
   "metadata": {},
   "outputs": [],
   "source": [
    "# Compare the results of both using the Frobenius Norm.\n",
    "\n",
    "def cost_time(func):\n",
    "    def fun(*args, **kwargs):\n",
    "        t = time.perf_counter()\n",
    "        result = func(*args, **kwargs)\n",
    "        print(f'func {func.__name__} cost time:{time.perf_counter() - t:.8f} s')\n",
    "        return result\n",
    "\n",
    "    return fun\n",
    "\n",
    "\n",
    "\n",
    "def compare_run_time(n):\n",
    "    non_psd=gen_non_psd(n)\n",
    "    print(\"When N= \"+str(n)+\", the run time of each is shown below:\")\n",
    "    n1 = time.time()\n",
    "    npsd = near_psd(non_psd)\n",
    "    n2 = time.time()\n",
    "    near_t = n2 - n1\n",
    "    \n",
    "    h1 = time.time()\n",
    "    higham = Higham_2002(non_psd)\n",
    "    h2 = time.time()\n",
    "    higham_t = h2 - h1\n",
    "   \n",
    "    print(\"The run time of near psd is \"+str(near_t))\n",
    "    print(\"The run time of higham2002 is \"+ str(higham_t))\n",
    "    return near_t,higham_t\n",
    "    \n",
    "    \n",
    "def compare_Frob_Norm(n):\n",
    "    non_psd=gen_non_psd(n)\n",
    "    print(\"When N= \"+str(n)+\", the result of Frobenius Norm of each is shown below:\")\n",
    "    near_psdA=near_psd(non_psd)\n",
    "    near_frobA=Frobenius_Norm(near_psdA-non_psd)\n",
    "\n",
    "    higham_psdA=Higham_2002(non_psd)\n",
    "    higham_frobA=Frobenius_Norm(higham_psdA-non_psd)\n",
    "    \n",
    "    print(\"The result of Frobenius Norm of near psd is \"+str(near_frobA))\n",
    "    print(\"The result of Frobenius Norm of higham2002 is \"+str(higham_frobA))\n",
    "    return near_frobA,higham_frobA\n"
   ]
  },
  {
   "cell_type": "code",
   "execution_count": 302,
   "metadata": {},
   "outputs": [
    {
     "name": "stdout",
     "output_type": "stream",
     "text": [
      "When N= 10, the run time of each is shown below:\n",
      "The run time of near psd is 0.002010822296142578\n",
      "The run time of higham2002 is 0.0029883384704589844\n",
      "When N= 10, the result of Frobenius Norm of each is shown below:\n",
      "The result of Frobenius Norm of near psd is 0.0027385481538506153\n",
      "The result of Frobenius Norm of higham2002 is 0.0015192331193787274\n",
      "When N= 100, the run time of each is shown below:\n",
      "The run time of near psd is 0.041519880294799805\n",
      "The run time of higham2002 is 0.14850878715515137\n",
      "When N= 100, the result of Frobenius Norm of each is shown below:\n",
      "The result of Frobenius Norm of near psd is 0.07441520643491044\n",
      "The result of Frobenius Norm of higham2002 is 0.007164374540474617\n",
      "When N= 500, the run time of each is shown below:\n",
      "The run time of near psd is 0.02300095558166504\n",
      "The run time of higham2002 is 3.868165969848633\n",
      "When N= 500, the result of Frobenius Norm of each is shown below:\n",
      "The result of Frobenius Norm of near psd is 0.39378468349905377\n",
      "The result of Frobenius Norm of higham2002 is 0.008036763154638967\n",
      "When N= 1000, the run time of each is shown below:\n",
      "The run time of near psd is 0.14795279502868652\n",
      "The run time of higham2002 is 15.376429796218872\n",
      "When N= 1000, the result of Frobenius Norm of each is shown below:\n",
      "The result of Frobenius Norm of near psd is 0.7929738934149935\n",
      "The result of Frobenius Norm of higham2002 is 0.008152133586040373\n",
      "When N= 2000, the run time of each is shown below:\n",
      "The run time of near psd is 1.199521541595459\n",
      "The run time of higham2002 is 88.11606526374817\n",
      "When N= 2000, the result of Frobenius Norm of each is shown below:\n",
      "The result of Frobenius Norm of near psd is 1.5913479056404576\n",
      "The result of Frobenius Norm of higham2002 is 0.008210370862618697\n",
      "When N= 5000, the run time of each is shown below:\n",
      "The run time of near psd is 19.412721872329712\n",
      "The run time of higham2002 is 891.4095306396484\n",
      "When N= 5000, the result of Frobenius Norm of each is shown below:\n",
      "The result of Frobenius Norm of near psd is 3.986466321676439\n",
      "The result of Frobenius Norm of higham2002 is 0.008245491519663107\n"
     ]
    },
    {
     "data": {
      "image/png": "[encoded data removed]",
      "text/plain": [
       "<Figure size 2000x800 with 1 Axes>"
      ]
     },
     "metadata": {},
     "output_type": "display_data"
    },
    {
     "data": {
      "image/png": "[encoded data removed]",
      "text/plain": [
       "<Figure size 2000x800 with 1 Axes>"
      ]
     },
     "metadata": {},
     "output_type": "display_data"
    }
   ],
   "source": [
    "N=[10,100,250,500,750,1000]\n",
    "near_time=[]\n",
    "near_f=[]\n",
    "high_time=[]\n",
    "high_f=[]\n",
    "\n",
    "for i in N:\n",
    "    n_t,h_t=compare_run_time(i)\n",
    "    n_f,h_f=compare_Frob_Norm(i)\n",
    "    near_time.append(n_t)\n",
    "    near_f.append(n_f)\n",
    "    high_time.append(h_t)\n",
    "    high_f.append(h_f)\n",
    "\n",
    "x=N\n",
    "y1=near_time\n",
    "y2=high_time\n",
    "plt.figure(figsize=(20,8))\n",
    "plt.plot(x,y1,lw=1,ms=4,label='near psd ')\n",
    "plt.plot(x,y2,lw=1,ms=4,label='higham')\n",
    "plt.title('The running time of near psd and higham according to N',fontsize=20,fontweight='heavy',verticalalignment='baseline')\n",
    "plt.xlabel('N',fontsize=18)\n",
    "plt.ylabel('run time',fontsize=18)\n",
    "plt.legend()\n",
    "plt.show()\n",
    "\n",
    "y3=near_f\n",
    "y4=high_f\n",
    "plt.figure(figsize=(20,8))\n",
    "plt.plot(x,y1,lw=1,ms=4,label='near psd')\n",
    "plt.plot(x,y2,lw=1,ms=4,label='higham')\n",
    "plt.title('The result of Frobenius Norm of near psd and higham according to N',fontsize=20,fontweight='heavy',verticalalignment='baseline')\n",
    "plt.xlabel('N',fontsize=18)\n",
    "plt.ylabel('run time',fontsize=18)\n",
    "plt.legend()\n",
    "plt.show()\n",
    "    "
   ]
  },
  {
   "cell_type": "code",
   "execution_count": null,
   "metadata": {},
   "outputs": [],
   "source": []
  },
  {
   "cell_type": "code",
   "execution_count": 360,
   "metadata": {},
   "outputs": [],
   "source": [
    "# Problem 3\n",
    "\n",
    "problem3_df = pd.read_csv(\"DailyReturn.csv\")\n",
    "problem3_df=problem3_df.rename(columns={\"Unnamed: 0\": \"Date\"})\n",
    "problem3_df2=problem3_df.drop(columns=\"Date\")\n",
    "\n",
    "# def cal_cov(x,y):\n",
    "#     n=len(x)\n",
    "#     tot=0\n",
    "#     avg_x=np.mean(x)\n",
    "#     avg_y=np.mean(y)\n",
    "    \n",
    "#     for i in range(n):\n",
    "#         tot+=(x[i]-avg_x)*(y[i]-avg_x)\n",
    "    \n",
    "#     return tot/n\n",
    "\n",
    "def covariance_matrix(df):\n",
    "    n = df.shape[0]\n",
    "    mean = np.mean(df, axis=0)\n",
    "    df = df - mean\n",
    "    cov_matrix = np.dot(df.T, df) / (n-1)\n",
    "    return cov_matrix\n",
    "\n",
    "def PearsonVar(df):\n",
    "    cov_mat=covariance_matrix(df)\n",
    "    var=np.diag(cov_mat)\n",
    "    \n",
    "    return var\n",
    "\n",
    "def PearsonCorr(df):\n",
    "    n_date=df.shape[0]\n",
    "    n_assets =df.shape[1]\n",
    "    cov_mat=covariance_matrix(df)\n",
    "    corr_mat=np.zeros((n_assets,n_assets))\n",
    "    var=PearsonVar(df)\n",
    "    std=np.sqrt(var)\n",
    "    for i in range(n_assets):\n",
    "        corr_mat[i][i]=cov_mat[i][i]/(std[i]*std[i])\n",
    "        for j in range(i+1,n_assets):\n",
    "            corr_mat[i][j]=cov_mat[i][j]/(std[i]*std[j])\n",
    "            corr_mat[j][i]=cov_mat[i][j]\n",
    "    \n",
    "    return corr_mat\n",
    "    \n",
    "            \n",
    "            \n",
    "def EWVar(lamda,df):\n",
    "    EWcov=Cal_cov_matrix(lamda,df)       \n",
    "    EWvar=np.diag(EWcov)\n",
    "    return EWvar\n",
    "\n",
    "\n",
    "    \n",
    "def EWCorr(lamda,df):\n",
    "    EWcov=Cal_cov_matrix(lamda,df)\n",
    "    n_date=df.shape[0]\n",
    "    n_assets =df.shape[1]\n",
    "    EWcorr_mat=np.zeros((n_assets,n_assets))\n",
    "    var=EWVar(lamda,df)\n",
    "    std=np.sqrt(var)\n",
    "    for i in range(n_assets):\n",
    "        EWcorr_mat[i][i]=EWcov[i][i]/(std[i]*std[i])\n",
    "        for j in range(i+1,n_assets):\n",
    "            EWcorr_mat[i][j]=EWcov[i][j]/(std[i]*std[j])\n",
    "            EWcorr_mat[j][i]=EWcov[i][j]\n",
    "            \n",
    "    return EWcorr_mat\n",
    "    \n",
    "def Combine_cov(Corr,std):\n",
    "    n=len(std)\n",
    "    new_cov=np.zeros((n,n))\n",
    "    for i in range(n):\n",
    "        new_cov[i][i]=Corr[i][i]*(std[i]*std[i])\n",
    "        for j in range(i+1,n_assets):\n",
    "            new_cov[i][j]=Corr[i][j]*(std[i]*std[j])\n",
    "            new_cov[j][i]=new_cov[i][j]\n",
    "            \n",
    "    return new_cov\n",
    "    \n",
    "# Combine 2X2\n",
    "\n",
    "New_cov = []\n",
    "\n",
    "pCorr=PearsonCorr(problem3_df2)\n",
    "pStd=PearsonVar(problem3_df2)\n",
    "eCorr=EWCorr(0.97,problem3_df2)\n",
    "eStd=EWCorr(0.97,problem3_df2)\n",
    "new1=Combine_cov(pCorr,pStd)\n",
    "new2=Combine_cov(pCorr,eStd)\n",
    "new3=Combine_cov(eCorr,eStd)\n",
    "new4=Combine_cov(eCorr,pStd)\n",
    "\n",
    "New_cov.append(new1)\n",
    "New_cov.append(new2)\n",
    "New_cov.append(new3)\n",
    "New_cov.append(new4)\n",
    "\n",
    "#Direct Simulate\n",
    "\n",
    "def direct_simulate(cov_mat, size):\n",
    "    n=len(cov_mat)\n",
    "    \n",
    "    Gen_rand = np.random.normal(size = (n,size))\n",
    "    root = chol_psd(cov_mat)\n",
    "    \n",
    "    ds=np.matmul(root,Gen_rand)\n",
    "    return \n",
    "\n",
    "def PCA_simulate(cov_mat, explained, sample_num):\n",
    "    explained_list = PCA(cov_mat)\n",
    "    ix = 0\n",
    "    n = len(cov_mat)\n",
    "\n",
    "    for i in range(len(explained_list)):\n",
    "        if explained_list[i]>=explained-1e-8: \n",
    "            ix = i\n",
    "            break\n",
    "    eigenvalue, eigenvector = np.linalg.eigh(cov_mat)\n",
    "    eigenvector = eigenvector[:, (n-ix-1):]\n",
    "    eigenvalue = eigenvalue[(n-ix-1):]\n",
    "\n",
    "    L = eigenvector @ np.diag(np.sqrt(eigenvalue))\n",
    "    rand_data = np.random.normal(size = (L.shape[1],sample_num))\n",
    "    return L@rand_data"
   ]
  },
  {
   "cell_type": "code",
   "execution_count": 354,
   "metadata": {},
   "outputs": [
    {
     "data": {
      "text/plain": [
       "array([[8.41106909e-05, 2.68752303e-04, 2.91157502e-04, ...,\n",
       "        7.47889224e-04, 3.08241679e-04, 2.62692778e-04],\n",
       "       [8.41106909e-05, 2.68752303e-04, 2.91157502e-04, ...,\n",
       "        7.47889224e-04, 3.08241679e-04, 2.62692778e-04],\n",
       "       [8.41106909e-05, 2.68752303e-04, 2.91157502e-04, ...,\n",
       "        7.47889224e-04, 3.08241679e-04, 2.62692778e-04],\n",
       "       ...,\n",
       "       [8.41106909e-05, 2.68752303e-04, 2.91157502e-04, ...,\n",
       "        7.47889224e-04, 3.08241679e-04, 2.62692778e-04],\n",
       "       [8.41106909e-05, 2.68752303e-04, 2.91157502e-04, ...,\n",
       "        7.47889224e-04, 3.08241679e-04, 2.62692778e-04],\n",
       "       [8.41106909e-05, 2.68752303e-04, 2.91157502e-04, ...,\n",
       "        7.47889224e-04, 3.08241679e-04, 2.62692778e-04]])"
      ]
     },
     "execution_count": 354,
     "metadata": {},
     "output_type": "execute_result"
    }
   ],
   "source": [
    "Cal_cov_matrix(0.97,problem1_df2)"
   ]
  },
  {
   "cell_type": "code",
   "execution_count": 363,
   "metadata": {},
   "outputs": [],
   "source": [
    "EWcov=Cal_cov_matrix(0.97,df)\n",
    "n_date=df.shape[0]\n",
    "n_assets =df.shape[1]\n",
    "EWcorr_mat=np.zeros((n_assets,n_assets))\n",
    "var=EWVar(0.97,df)\n",
    "std=np.sqrt(var)\n",
    "for i in range(n_assets):\n",
    "    EWcorr_mat[i][i]=EWcov[i][i]/(std[i]*std[i])\n",
    "    for j in range(i+1,n_assets):\n",
    "        EWcorr_mat[i][j]=EWcov[i][j]/(std[i]*std[j])\n",
    "        EWcorr_mat[j][i]=EWcov[i][j]"
   ]
  },
  {
   "cell_type": "code",
   "execution_count": 369,
   "metadata": {},
   "outputs": [
    {
     "data": {
      "text/plain": [
       "array([[8.41106909e-05, 2.68752303e-04, 2.91157502e-04, ...,\n",
       "        7.47889224e-04, 3.08241679e-04, 2.62692778e-04],\n",
       "       [8.41106909e-05, 2.68752303e-04, 2.91157502e-04, ...,\n",
       "        7.47889224e-04, 3.08241679e-04, 2.62692778e-04],\n",
       "       [8.41106909e-05, 2.68752303e-04, 2.91157502e-04, ...,\n",
       "        7.47889224e-04, 3.08241679e-04, 2.62692778e-04],\n",
       "       ...,\n",
       "       [8.41106909e-05, 2.68752303e-04, 2.91157502e-04, ...,\n",
       "        7.47889224e-04, 3.08241679e-04, 2.62692778e-04],\n",
       "       [8.41106909e-05, 2.68752303e-04, 2.91157502e-04, ...,\n",
       "        7.47889224e-04, 3.08241679e-04, 2.62692778e-04],\n",
       "       [8.41106909e-05, 2.68752303e-04, 2.91157502e-04, ...,\n",
       "        7.47889224e-04, 3.08241679e-04, 2.62692778e-04]])"
      ]
     },
     "execution_count": 369,
     "metadata": {},
     "output_type": "execute_result"
    }
   ],
   "source": [
    "Cal_cov_matrix(0.97,df)"
   ]
  },
  {
   "cell_type": "code",
   "execution_count": 370,
   "metadata": {},
   "outputs": [
    {
     "data": {
      "text/plain": [
       "array([[8.41106909e-05, 1.06945662e-04, 1.21760871e-04, ...,\n",
       "        1.25484463e-04, 8.11331555e-05, 8.61130395e-05],\n",
       "       [1.06945662e-04, 2.68752303e-04, 1.97531665e-04, ...,\n",
       "        1.15658764e-04, 3.74977522e-05, 8.22220854e-05],\n",
       "       [1.21760871e-04, 1.97531665e-04, 2.91157502e-04, ...,\n",
       "        8.30278956e-05, 3.31844912e-05, 7.34713753e-05],\n",
       "       ...,\n",
       "       [1.25484463e-04, 1.15658764e-04, 8.30278956e-05, ...,\n",
       "        7.47889224e-04, 2.68371109e-04, 2.00639601e-04],\n",
       "       [8.11331555e-05, 3.74977522e-05, 3.31844912e-05, ...,\n",
       "        2.68371109e-04, 3.08241679e-04, 8.21009546e-05],\n",
       "       [8.61130395e-05, 8.22220854e-05, 7.34713753e-05, ...,\n",
       "        2.00639601e-04, 8.21009546e-05, 2.62692778e-04]])"
      ]
     },
     "execution_count": 370,
     "metadata": {},
     "output_type": "execute_result"
    }
   ],
   "source": [
    "ewCov"
   ]
  },
  {
   "cell_type": "code",
   "execution_count": 305,
   "metadata": {},
   "outputs": [],
   "source": [
    "def cal_std(cov_mat):\n",
    "    std = np.sqrt(np.diag(cov_mat))\n",
    "    return std\n",
    "def cal_corr(cov_mat):\n",
    "\n",
    "    std = cal_std(cov_mat)\n",
    "    d = np.diag(1/std)\n",
    "    return d@cov_mat@d.T\n",
    "\n",
    "def cal_cov(std, corr):\n",
    "    std = np.diag(std)\n",
    "    return std@corr@std.T\n",
    "\n",
    "df_T=problem3_df2.T\n",
    "\n",
    "oriCov = np.cov(df_T)\n",
    "oriStd = cal_std(oriCov)\n",
    "oriCorr = cal_corr(oriCov)\n",
    "\n",
    "ewCov = weighted_cov(0.97, df)\n",
    "ewStd = cal_std(ewCov)\n",
    "ewCorr = cal_corr(ewCov)\n",
    "\n",
    "\n",
    "    \n",
    "    "
   ]
  },
  {
   "cell_type": "code",
   "execution_count": 307,
   "metadata": {},
   "outputs": [
    {
     "data": {
      "text/plain": [
       "array([[1.        , 0.71131419, 0.77806907, ..., 0.50031753, 0.50387996,\n",
       "        0.57932097],\n",
       "       [0.71131419, 1.        , 0.70614946, ..., 0.25797868, 0.13028171,\n",
       "        0.30944846],\n",
       "       [0.77806907, 0.70614946, 1.        , ..., 0.17792681, 0.11077085,\n",
       "        0.26566241],\n",
       "       ...,\n",
       "       [0.50031753, 0.25797868, 0.17792681, ..., 1.        , 0.55894805,\n",
       "        0.45266191],\n",
       "       [0.50387996, 0.13028171, 0.11077085, ..., 0.55894805, 1.        ,\n",
       "        0.28852168],\n",
       "       [0.57932097, 0.30944846, 0.26566241, ..., 0.45266191, 0.28852168,\n",
       "        1.        ]])"
      ]
     },
     "execution_count": 307,
     "metadata": {},
     "output_type": "execute_result"
    }
   ],
   "source": [
    "ewCorr "
   ]
  },
  {
   "cell_type": "code",
   "execution_count": null,
   "metadata": {},
   "outputs": [],
   "source": []
  },
  {
   "cell_type": "code",
   "execution_count": null,
   "metadata": {},
   "outputs": [],
   "source": []
  },
  {
   "cell_type": "code",
   "execution_count": null,
   "metadata": {},
   "outputs": [
    {
     "data": {
      "text/plain": [
       "array([[1.        , 0.73570272, 0.89999825, 0.89999825, 0.89999825],\n",
       "       [0.73570272, 1.        , 0.89999825, 0.89999825, 0.89999825],\n",
       "       [0.89999825, 0.89999825, 1.        , 0.90000112, 0.90000112],\n",
       "       [0.89999825, 0.89999825, 0.90000112, 1.        , 0.90000112],\n",
       "       [0.89999825, 0.89999825, 0.90000112, 0.90000112, 1.        ]])"
      ]
     },
     "execution_count": 65,
     "metadata": {},
     "output_type": "execute_result"
    }
   ],
   "source": []
  },
  {
   "cell_type": "code",
   "execution_count": 30,
   "metadata": {},
   "outputs": [
    {
     "data": {
      "text/plain": [
       "array([[1.        , 0.73570337, 0.89999783, 0.89999783, 0.89999783],\n",
       "       [0.73570337, 1.        , 0.89999783, 0.89999783, 0.89999783],\n",
       "       [0.89999783, 0.89999783, 1.        , 0.90000139, 0.90000139],\n",
       "       [0.89999783, 0.89999783, 0.90000139, 1.        , 0.90000139],\n",
       "       [0.89999783, 0.89999783, 0.90000139, 0.90000139, 1.        ]])"
      ]
     },
     "execution_count": 30,
     "metadata": {},
     "output_type": "execute_result"
    }
   ],
   "source": []
  },
  {
   "cell_type": "code",
   "execution_count": 29,
   "metadata": {},
   "outputs": [],
   "source": []
  },
  {
   "cell_type": "code",
   "execution_count": null,
   "metadata": {},
   "outputs": [],
   "source": []
  },
  {
   "cell_type": "code",
   "execution_count": 33,
   "metadata": {},
   "outputs": [
    {
     "data": {
      "text/plain": [
       "array([1., 1., 1., 1., 1.])"
      ]
     },
     "execution_count": 33,
     "metadata": {},
     "output_type": "execute_result"
    }
   ],
   "source": []
  },
  {
   "cell_type": "code",
   "execution_count": 44,
   "metadata": {},
   "outputs": [],
   "source": []
  },
  {
   "cell_type": "code",
   "execution_count": 38,
   "metadata": {},
   "outputs": [
    {
     "data": {
      "text/plain": [
       "array([-8.81890827e-06,  1.00000000e-01,  1.00000000e-01,  2.64300000e-01,\n",
       "        4.53570882e+00])"
      ]
     },
     "execution_count": 38,
     "metadata": {},
     "output_type": "execute_result"
    }
   ],
   "source": []
  },
  {
   "cell_type": "code",
   "execution_count": 45,
   "metadata": {},
   "outputs": [
    {
     "data": {
      "text/plain": [
       "array([[1.00000272, 0.73570272, 0.89999825, 0.89999825, 0.89999825],\n",
       "       [0.73570272, 1.00000272, 0.89999825, 0.89999825, 0.89999825],\n",
       "       [0.89999825, 0.89999825, 1.00000112, 0.90000112, 0.90000112],\n",
       "       [0.89999825, 0.89999825, 0.90000112, 1.00000112, 0.90000112],\n",
       "       [0.89999825, 0.89999825, 0.90000112, 0.90000112, 1.00000112]])"
      ]
     },
     "execution_count": 45,
     "metadata": {},
     "output_type": "execute_result"
    }
   ],
   "source": []
  },
  {
   "cell_type": "code",
   "execution_count": 42,
   "metadata": {},
   "outputs": [
    {
     "data": {
      "text/plain": [
       "array([[1.00000272, 0.73570272, 0.89999825, 0.89999825, 0.89999825],\n",
       "       [0.73570272, 1.00000272, 0.89999825, 0.89999825, 0.89999825],\n",
       "       [0.89999825, 0.89999825, 1.00000112, 0.90000112, 0.90000112],\n",
       "       [0.89999825, 0.89999825, 0.90000112, 1.00000112, 0.90000112],\n",
       "       [0.89999825, 0.89999825, 0.90000112, 0.90000112, 1.00000112]])"
      ]
     },
     "execution_count": 42,
     "metadata": {},
     "output_type": "execute_result"
    }
   ],
   "source": []
  },
  {
   "cell_type": "code",
   "execution_count": 47,
   "metadata": {},
   "outputs": [
    {
     "data": {
      "text/plain": [
       "inf"
      ]
     },
     "execution_count": 47,
     "metadata": {},
     "output_type": "execute_result"
    }
   ],
   "source": []
  },
  {
   "cell_type": "code",
   "execution_count": 56,
   "metadata": {},
   "outputs": [
    {
     "data": {
      "text/plain": [
       "array([[1.00000272, 0.73570272, 0.89999825, 0.89999825, 0.89999825],\n",
       "       [0.73570272, 1.00000272, 0.89999825, 0.89999825, 0.89999825],\n",
       "       [0.89999825, 0.89999825, 1.00000112, 0.90000112, 0.90000112],\n",
       "       [0.89999825, 0.89999825, 0.90000112, 1.00000112, 0.90000112],\n",
       "       [0.89999825, 0.89999825, 0.90000112, 0.90000112, 1.00000112]])"
      ]
     },
     "execution_count": 56,
     "metadata": {},
     "output_type": "execute_result"
    }
   ],
   "source": []
  },
  {
   "cell_type": "code",
   "execution_count": null,
   "metadata": {},
   "outputs": [],
   "source": []
  }
 ],
 "metadata": {
  "kernelspec": {
   "display_name": "base",
   "language": "python",
   "name": "python3"
  },
  "language_info": {
   "codemirror_mode": {
    "name": "ipython",
    "version": 3
   },
   "file_extension": ".py",
   "mimetype": "text/x-python",
   "name": "python",
   "nbconvert_exporter": "python",
   "pygments_lexer": "ipython3",
   "version": "3.9.13"
  },
  "orig_nbformat": 4,
  "vscode": {
   "interpreter": {
    "hash": "97130c78b3da60b5c28727d3dfcbfc7b07d8d3efc5ea80a8f1c4ac85de6e4186"
   }
  }
 },
 "nbformat": 4,
 "nbformat_minor": 2
}
